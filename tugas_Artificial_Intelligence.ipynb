{
  "nbformat": 4,
  "nbformat_minor": 0,
  "metadata": {
    "colab": {
      "provenance": []
    },
    "kernelspec": {
      "name": "python3",
      "display_name": "Python 3"
    },
    "language_info": {
      "name": "python"
    }
  },
  "cells": [
    {
      "cell_type": "markdown",
      "source": [
        "Nama: Erina Sandriani\n",
        "\n",
        "Nim 20220801073\n",
        "\n",
        "Studi Kasus: Deteksi Diabetes\n",
        "\n",
        "Deskripsi Kasus: Studi kasus ini bertujuan untuk memprediksi apakah seorang pasien menderita diabetes atau tidak berdasarkan beberapa pengukuran diagnostik"
      ],
      "metadata": {
        "id": "YEHOeeObRjGb"
      }
    },
    {
      "cell_type": "markdown",
      "source": [
        "* **IMPORT LIBRARY**\n",
        "\n",
        "library yang digunakan dalam kode: NumPy, Pandas, Matplotlib, Seaborn, scikit-learn"
      ],
      "metadata": {
        "id": "ZFCni35sRmbm"
      }
    },
    {
      "cell_type": "code",
      "source": [
        "import numpy as np\n",
        "import pandas as pd\n",
        "import matplotlib.pyplot as plt\n",
        "import seaborn as sns\n",
        "from sklearn.model_selection import train_test_split\n",
        "from sklearn.ensemble import RandomForestClassifier\n",
        "from sklearn.metrics import accuracy_score, confusion_matrix"
      ],
      "metadata": {
        "id": "o-Caxe7NRtwr"
      },
      "execution_count": null,
      "outputs": []
    },
    {
      "cell_type": "markdown",
      "source": [
        "* **LOAD DATASET**\n",
        "\n",
        "Dataset dibaca dari URL menggunakan pandas.read_csv(). Data ini berisi informasi terkait beberapa pengukuran kesehatan yang relevan untuk mendeteksi diabetes."
      ],
      "metadata": {
        "id": "6PERqh2DRwgR"
      }
    },
    {
      "cell_type": "code",
      "source": [
        "url = \"https://raw.githubusercontent.com/jbrownlee/Datasets/master/pima-indians-diabetes.data.csv\""
      ],
      "metadata": {
        "id": "w3G8HRrnR1Pd"
      },
      "execution_count": null,
      "outputs": []
    },
    {
      "cell_type": "markdown",
      "source": [
        "* **KOLOM DATASET**"
      ],
      "metadata": {
        "id": "JP6DtrinR4Gq"
      }
    },
    {
      "cell_type": "code",
      "source": [
        "column_names = ['Pregnancies', 'Glucose', 'BloodPressure', 'SkinThickness', 'Insulin', 'BMI', 'DiabetesPedigreeFunction', 'Age', 'Outcome']"
      ],
      "metadata": {
        "id": "DmbxTj1wR-A9"
      },
      "execution_count": null,
      "outputs": []
    },
    {
      "cell_type": "markdown",
      "source": [
        "* **KONVERSI KE DATAFRAME**\n",
        "\n",
        "Mengonversi data fitur dan label menjadi format DataFrame menggunakan pandas, agar lebih mudah dibaca dan dianalisis."
      ],
      "metadata": {
        "id": "XXmtKtsgSCKH"
      }
    },
    {
      "cell_type": "code",
      "source": [
        "df = pd.read_csv(url, names=column_names)"
      ],
      "metadata": {
        "id": "ckHrOaZPSF81"
      },
      "execution_count": null,
      "outputs": []
    },
    {
      "cell_type": "markdown",
      "source": [
        "* **TAMPILKAN DATA**\n",
        "\n",
        "Menampilkan lima baris pertama dari dataset untuk memberikan gambaran tentang struktur data yang akan digunakan."
      ],
      "metadata": {
        "id": "f2WktSG2SIhQ"
      }
    },
    {
      "cell_type": "code",
      "source": [
        "print(\"Dataset Pima Indians Diabetes (5 Baris Pertama):\")\n",
        "print(df.head())"
      ],
      "metadata": {
        "colab": {
          "base_uri": "https://localhost:8080/"
        },
        "id": "D4elbOvISLOl",
        "outputId": "954e779f-45fc-4a53-9f05-2d6901ac98c6"
      },
      "execution_count": 2,
      "outputs": [
        {
          "output_type": "stream",
          "name": "stdout",
          "text": [
            "Dataset Pima Indians Diabetes (5 Baris Pertama):\n",
            "   Pregnancies  Glucose  BloodPressure  SkinThickness  Insulin   BMI  \\\n",
            "0            6      148             72             35        0  33.6   \n",
            "1            1       85             66             29        0  26.6   \n",
            "2            8      183             64              0        0  23.3   \n",
            "3            1       89             66             23       94  28.1   \n",
            "4            0      137             40             35      168  43.1   \n",
            "\n",
            "   DiabetesPedigreeFunction  Age  Outcome  \n",
            "0                     0.627   50        1  \n",
            "1                     0.351   31        0  \n",
            "2                     0.672   32        1  \n",
            "3                     0.167   21        0  \n",
            "4                     2.288   33        1  \n"
          ]
        }
      ]
    },
    {
      "cell_type": "markdown",
      "source": [
        "* **PEMISAHAN DATA**\n",
        "\n",
        "Data dipecah menjadi fitur (X) dan label (y), di mana label Outcome memiliki nilai 0 (tidak diabetes) dan 1 (diabetes)."
      ],
      "metadata": {
        "id": "wqzxv1O_SR3M"
      }
    },
    {
      "cell_type": "code",
      "source": [
        "X = df.drop('Outcome', axis=1)\n",
        "y = df['Outcome']"
      ],
      "metadata": {
        "id": "jZXcx2GWSWxG"
      },
      "execution_count": null,
      "outputs": []
    },
    {
      "cell_type": "markdown",
      "source": [
        "Data dibagi menjadi set pelatihan (80%) dan pengujian (20%) menggunakan train_test_split()."
      ],
      "metadata": {
        "id": "H57f_7ZoSZnu"
      }
    },
    {
      "cell_type": "code",
      "source": [
        "X_train, X_test, y_train, y_test = train_test_split(X, y, test_size=0.2, random_state=42)"
      ],
      "metadata": {
        "id": "SpP_MhalSdAg"
      },
      "execution_count": null,
      "outputs": []
    },
    {
      "cell_type": "markdown",
      "source": [
        "* **MODEL RANDOM FOREST**\n",
        "\n",
        "Menginisialisasi model Random Forest Classifier dengan 100 estimator (pohon keputusan). Random Forest adalah teknik ensemble yang menggabungkan beberapa pohon keputusan untuk meningkatkan akurasi model."
      ],
      "metadata": {
        "id": "yduBoJgfSftw"
      }
    },
    {
      "cell_type": "code",
      "source": [
        "rf_clf = RandomForestClassifier(n_estimators=100, random_state=42)"
      ],
      "metadata": {
        "id": "U0_Si085Sijd"
      },
      "execution_count": null,
      "outputs": []
    },
    {
      "cell_type": "markdown",
      "source": [
        "* **PELATIHAN MODEL**\n",
        "\n",
        "Melatih model menggunakan data pelatihan. Fungsi fit() mengadaptasi model dengan data untuk mempelajari pola-pola yang ada."
      ],
      "metadata": {
        "id": "Z2ruYs0JSl6H"
      }
    },
    {
      "cell_type": "code",
      "source": [
        "rf_clf.fit(X_train, y_train)"
      ],
      "metadata": {
        "id": "pvijpeLlSpdB"
      },
      "execution_count": null,
      "outputs": []
    },
    {
      "cell_type": "markdown",
      "source": [
        "* **PREDIKSI**\n",
        "\n",
        "Menggunakan model yang telah dilatih untuk memprediksi label dari data pengujian."
      ],
      "metadata": {
        "id": "EAxr-Xi2SsS4"
      }
    },
    {
      "cell_type": "code",
      "source": [
        "y_pred = rf_clf.predict(X_test)"
      ],
      "metadata": {
        "id": "v5nRqHRmSuwU"
      },
      "execution_count": null,
      "outputs": []
    },
    {
      "cell_type": "markdown",
      "source": [
        "* **AKURASI MODEL**\n",
        "\n",
        "Menghitung akurasi model dengan membandingkan prediksi (y_pred) dengan label sebenarnya (y_test) menggunakan accuracy_score()."
      ],
      "metadata": {
        "id": "oJ2csC1tS0BC"
      }
    },
    {
      "cell_type": "code",
      "source": [
        "accuracy = accuracy_score(y_test, y_pred)\n",
        "print(f\"Akurasi model Random Forest: {accuracy * 100:.2f}%\")"
      ],
      "metadata": {
        "id": "7FIYiSsZS4Jk"
      },
      "execution_count": null,
      "outputs": []
    },
    {
      "cell_type": "markdown",
      "source": [
        "* **CONFUSION MATRIX**\n",
        "\n",
        "Membuat confusion matrix untuk mengevaluasi hasil prediksi. Confusion matrix memberikan gambaran tentang jumlah prediksi yang benar dan salah untuk setiap kelas."
      ],
      "metadata": {
        "id": "n6quu0QTS68b"
      }
    },
    {
      "cell_type": "code",
      "source": [
        "conf_matrix = confusion_matrix(y_test, y_pred)\n",
        "print(\"\\nMatriks Kebingungan:\")\n",
        "print(conf_matrix)"
      ],
      "metadata": {
        "colab": {
          "base_uri": "https://localhost:8080/"
        },
        "id": "oMQhGM9xTF5V",
        "outputId": "319052a4-7ae6-427e-ec96-0475ed65097d"
      },
      "execution_count": 3,
      "outputs": [
        {
          "output_type": "stream",
          "name": "stdout",
          "text": [
            "\n",
            "Matriks Kebingungan:\n",
            "[[77 22]\n",
            " [21 34]]\n"
          ]
        }
      ]
    },
    {
      "cell_type": "markdown",
      "source": [
        "* **VISUALISASI CONFUSION MATRIX**\n",
        "\n",
        "Menggunakan Seaborn untuk memvisualisasikan confusion matrix. sns.heatmap() membuat grafik yang menunjukkan hasil prediksi secara lebih intuitif."
      ],
      "metadata": {
        "id": "RHUggPjzTILW"
      }
    },
    {
      "cell_type": "code",
      "source": [
        "plt.figure(figsize=(6, 4))\n",
        "sns.heatmap(cm, annot=True, fmt='d', cmap='Reds', xticklabels=['Non-Diabetes', 'Diabetes'], yticklabels=['Non-Diabetes', 'Diabetes'])\n",
        "plt.title('Confusion Matrix')\n",
        "plt.ylabel('Actual Class')\n",
        "plt.xlabel('Predicted Class')\n",
        "plt.show()"
      ],
      "metadata": {
        "colab": {
          "base_uri": "https://localhost:8080/",
          "height": 410
        },
        "id": "LhsLmrGpTL2f",
        "outputId": "0a2b0653-2870-4239-9a7f-5759481cb98b"
      },
      "execution_count": 5,
      "outputs": [
        {
          "output_type": "display_data",
          "data": {
            "text/plain": [
              "<Figure size 600x400 with 2 Axes>"
            ],
            "image/png": "[encoded data removed]"
          },
          "metadata": {}
        }
      ]
    },
    {
      "cell_type": "markdown",
      "source": [
        "* **PREDIKSI DENGAN DATA BARU**\n",
        "\n",
        "Memberikan contoh bagaimana model dapat digunakan untuk memprediksi risiko diabetes berdasarkan data pasien baru."
      ],
      "metadata": {
        "id": "c78AwzhJTWY4"
      }
    },
    {
      "cell_type": "code",
      "source": [
        "sample_data = np.array([[6, 148, 72, 35, 0, 33.6, 0.627, 50]])\n",
        "predicted_class = rf_clf.predict(sample_data)\n",
        "result = 'Diabetes' if predicted_class[0] == 1 else 'Non-Diabetes'\n",
        "print(f\"Prediksi untuk data {sample_data}: {result}\")"
      ],
      "metadata": {
        "colab": {
          "base_uri": "https://localhost:8080/"
        },
        "id": "4gejrP4yTitI",
        "outputId": "9dc57b06-a05d-41e7-8713-b6de643aa36b"
      },
      "execution_count": 6,
      "outputs": [
        {
          "output_type": "stream",
          "name": "stdout",
          "text": [
            "Prediksi untuk data [[  6.    148.     72.     35.      0.     33.6     0.627  50.   ]]: Diabetes\n"
          ]
        },
        {
          "output_type": "stream",
          "name": "stderr",
          "text": [
            "/usr/local/lib/python3.10/dist-packages/sklearn/base.py:493: UserWarning: X does not have valid feature names, but RandomForestClassifier was fitted with feature names\n",
            "  warnings.warn(\n"
          ]
        }
      ]
    }
  ]
}